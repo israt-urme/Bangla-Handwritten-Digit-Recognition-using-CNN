{
  "nbformat": 4,
  "nbformat_minor": 0,
  "metadata": {
    "colab": {
      "name": "Bengali Digit Receognizer1.ipynb",
      "version": "0.3.2",
      "provenance": [],
      "include_colab_link": true
    },
    "language_info": {
      "codemirror_mode": {
        "name": "ipython",
        "version": 3
      },
      "file_extension": ".py",
      "mimetype": "text/x-python",
      "name": "python",
      "nbconvert_exporter": "python",
      "pygments_lexer": "ipython3",
      "version": "3.6.5"
    },
    "kernelspec": {
      "display_name": "Python 3",
      "language": "python",
      "name": "python3"
    }
  },
  "cells": [
    {
      "cell_type": "markdown",
      "metadata": {
        "id": "view-in-github",
        "colab_type": "text"
      },
      "source": [
        "<a href=\"https://colab.research.google.com/github/nasim-aust/Bangla-Digit-Recognition-using-CNN/blob/master/Bengali_Digit_Receognizer%20using%20CNN.ipynb\" target=\"_parent\"><img src=\"https://colab.research.google.com/assets/colab-badge.svg\" alt=\"Open In Colab\"/></a>"
      ]
    },
    {
      "cell_type": "markdown",
      "metadata": {
        "_cell_guid": "d93e43c9-8a48-41c7-93f2-1dbeec38f80e",
        "_uuid": "b2538ad6607dc541ad42195df42b3c70ecdd59a3",
        "id": "asmJRuOT5vvY",
        "colab_type": "text"
      },
      "source": [
        "# Bangla Digit Recognizer "
      ]
    },
    {
      "cell_type": "markdown",
      "metadata": {
        "_cell_guid": "8b668dd4-4ea0-4894-bf75-390f6515286f",
        "_uuid": "56ee22f1b808d3ae49db7543cbc439b3ab964426",
        "id": "y6Xk3f-K5vva",
        "colab_type": "text"
      },
      "source": [
        "\n",
        "**Step 1 : Process the data.<br>\n",
        "Step 2 : Design the model.<br>\n",
        "Step 3 : Train the model.**"
      ]
    },
    {
      "cell_type": "code",
      "metadata": {
        "_cell_guid": "c386cfd1-3d2e-4bd0-b1bf-2c72698afe96",
        "_uuid": "4cdc8ebf9bc167498cace36993800c819556eb04",
        "id": "tZsTSfYK5vvb",
        "colab_type": "code",
        "colab": {},
        "outputId": "dd55c73e-a500-41ac-bac9-a7a2aa5cccf8"
      },
      "source": [
        "# Importing necessary libraries\n",
        "import numpy as np\n",
        "import os\n",
        "import glob\n",
        "import cv2\n",
        "import matplotlib.pyplot as plt\n",
        "import pandas as pd\n",
        "import pickle\n",
        "from keras.utils import to_categorical\n",
        "from keras.layers import Dense, Input, Conv2D, Flatten, MaxPooling2D, Activation,Dropout\n",
        "from keras.models import Model\n",
        "from keras.callbacks import ModelCheckpoint\n",
        "from keras import backend as K\n",
        "from __future__ import print_function\n",
        "import keras\n",
        "from keras.models import Sequential\n",
        "from keras.layers import Dense, Activation\n",
        "from keras.utils import to_categorical\n",
        "from keras import backend as k\n",
        "%matplotlib inline\n",
        "import matplotlib.pyplot as plt\n",
        "import numpy as np"
      ],
      "execution_count": 0,
      "outputs": [
        {
          "output_type": "stream",
          "text": [
            "Using TensorFlow backend.\n"
          ],
          "name": "stderr"
        }
      ]
    },
    {
      "cell_type": "markdown",
      "metadata": {
        "_cell_guid": "49f11a3e-7149-4877-b2d1-46bcc3876d3b",
        "_uuid": "12815b115dcf40bd1d14daa942fbe18dfc330ebf",
        "id": "XHczvaE25vvj",
        "colab_type": "text"
      },
      "source": [
        "## Step 1: Process the data"
      ]
    },
    {
      "cell_type": "markdown",
      "metadata": {
        "_cell_guid": "db9ec487-5a21-4289-9b9a-f2649e94955a",
        "_uuid": "5e998f2691200a0019ad2e3940d5acee12e628be",
        "id": "QlFAsrlV5vvk",
        "colab_type": "text"
      },
      "source": [
        "Our dataset comes from six different source."
      ]
    },
    {
      "cell_type": "code",
      "metadata": {
        "_cell_guid": "a42ae61e-565e-48ae-b618-370dc4bd3718",
        "_uuid": "8f087bcd8bb6c49f440bd5bea4769ddd692d291e",
        "id": "tNtw5xWY5vvl",
        "colab_type": "code",
        "colab": {}
      },
      "source": [
        "#Declaring constants\n",
        "FIG_WIDTH=20 # Width of figure\n",
        "HEIGHT_PER_ROW=3 # Height of each row when showing a figure which consists of multiple rows\n",
        "RESIZE_DIM=32 # The images will be resized to 28x28 pixels"
      ],
      "execution_count": 0,
      "outputs": []
    },
    {
      "cell_type": "code",
      "metadata": {
        "_uuid": "5dfa2840e7fa2af7ca3ff13dcb92308f41caf244",
        "id": "lpYm-csX5vvp",
        "colab_type": "code",
        "colab": {}
      },
      "source": [
        "data_dir=os.path.join('..','NumtaDB_with_aug')\n",
        "paths_train_a=glob.glob(os.path.join(data_dir,'training-a','*.png'))\n",
        "paths_train_b=glob.glob(os.path.join(data_dir,'training-b','*.png'))\n",
        "paths_train_e=glob.glob(os.path.join(data_dir,'training-e','*.png'))\n",
        "paths_train_c=glob.glob(os.path.join(data_dir,'training-c','*.png'))\n",
        "paths_train_d=glob.glob(os.path.join(data_dir,'training-d','*.png'))\n",
        "paths_train_all=paths_train_a+paths_train_b+paths_train_c+paths_train_d+paths_train_e\n",
        "\n",
        "paths_test_a=glob.glob(os.path.join(data_dir,'testing-a','*.png'))\n",
        "paths_test_b=glob.glob(os.path.join(data_dir,'testing-b','*.png'))\n",
        "paths_test_e=glob.glob(os.path.join(data_dir,'testing-e','*.png'))\n",
        "paths_test_c=glob.glob(os.path.join(data_dir,'testing-c','*.png'))\n",
        "paths_test_d=glob.glob(os.path.join(data_dir,'testing-d','*.png'))\n",
        "paths_test_f=glob.glob(os.path.join(data_dir,'testing-f','*.png'))+glob.glob(os.path.join(data_dir,'testing-f','*.JPG'))\n",
        "paths_test_auga=glob.glob(os.path.join(data_dir,'testing-auga','*.png'))\n",
        "paths_test_augc=glob.glob(os.path.join(data_dir,'testing-augc','*.png'))\n",
        "paths_test_all=paths_test_a+paths_test_b+paths_test_c+paths_test_d+paths_test_e+paths_test_f+paths_test_auga+paths_test_augc\n",
        "\n",
        "path_label_train_a=os.path.join(data_dir,'training-a.csv')\n",
        "path_label_train_b=os.path.join(data_dir,'training-b.csv')\n",
        "path_label_train_e=os.path.join(data_dir,'training-e.csv')\n",
        "path_label_train_c=os.path.join(data_dir,'training-c.csv')\n",
        "path_label_train_d=os.path.join(data_dir,'training-d.csv')"
      ],
      "execution_count": 0,
      "outputs": []
    },
    {
      "cell_type": "markdown",
      "metadata": {
        "_cell_guid": "45ef7b96-b4cb-46d5-a092-6eb10775cb3e",
        "_uuid": "5aab8d2c6139e67da8cac46a41b02dd3b0c16c1a",
        "id": "Yg6yjUXS5vvq",
        "colab_type": "text"
      },
      "source": [
        "### Image Processing "
      ]
    },
    {
      "cell_type": "markdown",
      "metadata": {
        "_cell_guid": "7ee61a9a-b469-4fae-8770-3981bb601a68",
        "_uuid": "21cd71c9e6faa386a2c5829cf3a3e636b338f280",
        "id": "55CiGH6k5vvq",
        "colab_type": "text"
      },
      "source": [
        "We shall write some helper functions to process and visualize the images. We will convert color to gray scale image. For better understanding we will unblur the image and make image sharp by using laplacian filter."
      ]
    },
    {
      "cell_type": "code",
      "metadata": {
        "_cell_guid": "87d7081d-aa4a-48b9-b1a4-575ceceb2eb3",
        "_uuid": "aa19885280eef5dfed1f8378d668ea7f025a7925",
        "id": "P5HOjz6h5vvr",
        "colab_type": "code",
        "colab": {}
      },
      "source": [
        "def get_key(path):\n",
        "    # seperates the key of an image from the filepath\n",
        "    key=path.split(sep=os.sep)[-1]\n",
        "    return key\n",
        "\n",
        "def get_data(paths_img,path_label=None,resize_dim=None):\n",
        "    '''reads images from the filepaths, resizes them (if given), and returns them in a numpy array\n",
        "    Args:\n",
        "        paths_img: image filepaths\n",
        "        path_label: pass image label filepaths while processing training data, defaults to None while processing testing data\n",
        "        resize_dim: if given, the image is resized to resize_dim x resize_dim (optional)\n",
        "    Returns:\n",
        "        X: group of images\n",
        "        y: categorical true labels\n",
        "    '''\n",
        "    X=[] # initialize empty list for resized images\n",
        "    for i,path in enumerate(paths_img):\n",
        "        img=cv2.imread(path,cv2.IMREAD_GRAYSCALE) # images loaded in color (BGR)\n",
        "        #img = cv2.bilateralFilter(img,9,75,75)\n",
        "        #img = cv2.medianBlur(img,5)\n",
        "        #img = cv2.fastNlMeansDenoisingColored(img,None,10,10,7,21)\n",
        "        #img=cv2.cvtColor(img,cv2.COLOR_BGR2GRAY) # cnahging colorspace to GRAY\n",
        "        if resize_dim is not None:\n",
        "            img=cv2.resize(img,(resize_dim,resize_dim),interpolation=cv2.INTER_AREA) # resize image to 28x28\n",
        "        #X.append(np.expand_dims(img,axis=2)) # expand image to 28x28x1 and append to the list.\n",
        "        gaussian_3 = cv2.GaussianBlur(img, (9,9), 10.0) #unblur\n",
        "        img = cv2.addWeighted(img, 1.5, gaussian_3, -0.5, 0, img)\n",
        "        kernel = np.array([[-1,-1,-1], [-1,9,-1], [-1,-1,-1]]) #filter\n",
        "        img = cv2.filter2D(img, -1, kernel)\n",
        "        #thresh = 200\n",
        "        #maxValue = 255\n",
        "        #th, img = cv2.threshold(img, thresh, maxValue, cv2.THRESH_BINARY);\n",
        "        ret,img = cv2.threshold(img, 128, 255, cv2.THRESH_BINARY_INV+cv2.THRESH_OTSU)\n",
        "        X.append(img) # expand image to 28x28x1 and append to the list\n",
        "        # display progress\n",
        "        if i==len(paths_img)-1:\n",
        "            end='\\n'\n",
        "        else: end='\\r'\n",
        "        print('processed {}/{}'.format(i+1,len(paths_img)),end=end)\n",
        "        \n",
        "    X=np.array(X) # tranform list to numpy array\n",
        "    if  path_label is None:\n",
        "        return X\n",
        "    else:\n",
        "        df = pd.read_csv(path_label) # read labels\n",
        "        df=df.set_index('filename') \n",
        "        y_label=[df.loc[get_key(path)]['digit'] for path in  paths_img] # get the labels corresponding to the images\n",
        "        y=to_categorical(y_label,10) # transfrom integer value to categorical variable\n",
        "        return X, y\n",
        "        \n",
        "def imshow_group(X,y,y_pred=None,n_per_row=10,phase='processed'):\n",
        "    '''helper function to visualize a group of images along with their categorical true labels (y) and prediction probabilities.\n",
        "    Args:\n",
        "        X: images\n",
        "        y: categorical true labels\n",
        "        y_pred: predicted class probabilities\n",
        "        n_per_row: number of images per row to be plotted\n",
        "        phase: If the images are plotted after resizing, pass 'processed' to phase argument. \n",
        "            It will plot the image and its true label. If the image is plotted after prediction \n",
        "            phase, pass predicted class probabilities to y_pred and 'prediction' to the phase argument. \n",
        "            It will plot the image, the true label, and it's top 3 predictions with highest probabilities.\n",
        "    '''\n",
        "    n_sample=len(X)\n",
        "    img_dim=X.shape[1]\n",
        "    j=np.ceil(n_sample/n_per_row)\n",
        "    fig=plt.figure(figsize=(FIG_WIDTH,HEIGHT_PER_ROW*j))\n",
        "    for i,img in enumerate(X):\n",
        "        plt.subplot(j,n_per_row,i+1)\n",
        "#         img_sq=np.squeeze(img,axis=2)\n",
        "#         plt.imshow(img_sq,cmap='gray')\n",
        "        plt.imshow(img)\n",
        "        if phase=='processed':\n",
        "            plt.title(np.argmax(y[i]))\n",
        "        if phase=='prediction':\n",
        "            top_n=3 # top 3 predictions with highest probabilities\n",
        "            ind_sorted=np.argsort(y_pred[i])[::-1]\n",
        "            h=img_dim+4\n",
        "            for k in range(top_n):\n",
        "                string='pred: {} ({:.0f}%)\\n'.format(ind_sorted[k],y_pred[i,ind_sorted[k]]*100)\n",
        "                plt.text(img_dim/2, h, string, horizontalalignment='center',verticalalignment='center')\n",
        "                h+=4\n",
        "            if y is not None:\n",
        "                plt.text(img_dim/2, -4, 'true label: {}'.format(np.argmax(y[i])), \n",
        "                         horizontalalignment='center',verticalalignment='center')\n",
        "        plt.axis('off')\n",
        "    plt.show()\n",
        "\n",
        "def create_submission(predictions,keys,path):\n",
        "    result = pd.DataFrame(\n",
        "        predictions,\n",
        "        columns=['label'],\n",
        "        index=keys\n",
        "        )\n",
        "    result.index.name='key'\n",
        "    result.to_csv(path, index=True)"
      ],
      "execution_count": 0,
      "outputs": []
    },
    {
      "cell_type": "markdown",
      "metadata": {
        "_cell_guid": "541cbb22-5319-490a-b6a4-8999db770722",
        "_uuid": "01fee24b540458889ebaa9d86b7646e5264e5b1e",
        "id": "SnwznmaI5vvs",
        "colab_type": "text"
      },
      "source": [
        "Next we are going to use the `get_data()` function to process all the images from dataset "
      ]
    },
    {
      "cell_type": "code",
      "metadata": {
        "_uuid": "e4d65fdcac01f5d367ce863d79d22fbbf9b36b86",
        "id": "Jjdsm8aM5vvs",
        "colab_type": "code",
        "colab": {},
        "outputId": "4f67c5be-b376-4249-f6d8-327249326a6a"
      },
      "source": [
        "X_train_a,y_train_a=get_data(paths_train_a,path_label_train_a,resize_dim=RESIZE_DIM)\n",
        "X_train_b,y_train_b=get_data(paths_train_b,path_label_train_b,resize_dim=RESIZE_DIM)\n",
        "X_train_c,y_train_c=get_data(paths_train_c,path_label_train_c,resize_dim=RESIZE_DIM)\n",
        "X_train_d,y_train_d=get_data(paths_train_d,path_label_train_d,resize_dim=RESIZE_DIM)\n",
        "X_train_e,y_train_e=get_data(paths_train_e,path_label_train_e,resize_dim=RESIZE_DIM)"
      ],
      "execution_count": 0,
      "outputs": [
        {
          "output_type": "stream",
          "text": [
            "processed 19702/19702\n",
            "processed 359/359\n",
            "processed 24298/24298\n",
            "processed 10908/10908\n",
            "processed 16778/16778\n"
          ],
          "name": "stdout"
        }
      ]
    },
    {
      "cell_type": "code",
      "metadata": {
        "_cell_guid": "620a40d9-36f8-49fa-b96c-b823999daad0",
        "_uuid": "1d06bb5aaa056f719a918be3206c3f6b2e738e0b",
        "scrolled": true,
        "id": "O2Eu3gYk5vvu",
        "colab_type": "code",
        "colab": {},
        "outputId": "53765bf0-678f-4afd-ac05-4616776db776"
      },
      "source": [
        "X_train_all=np.concatenate((X_train_a,X_train_b,X_train_c,X_train_d,X_train_e),axis=0)\n",
        "y_train_all=np.concatenate((y_train_a,y_train_b,y_train_c,y_train_d,y_train_e),axis=0)\n",
        "X_train_all.shape, y_train_all.shape"
      ],
      "execution_count": 0,
      "outputs": [
        {
          "output_type": "execute_result",
          "data": {
            "text/plain": [
              "((72045, 32, 32), (72045, 10))"
            ]
          },
          "metadata": {
            "tags": []
          },
          "execution_count": 6
        }
      ]
    },
    {
      "cell_type": "code",
      "metadata": {
        "_uuid": "ed3a982e1b9ac0b91ae9368c546d0d0447cc5fca",
        "id": "TRZVRgXq5vvw",
        "colab_type": "code",
        "colab": {}
      },
      "source": [
        "X_show_all=X_train_all"
      ],
      "execution_count": 0,
      "outputs": []
    },
    {
      "cell_type": "markdown",
      "metadata": {
        "_cell_guid": "6a2f1c8a-4bdf-4307-b9ea-7841175be203",
        "_uuid": "08f095d0c3ee5f77e811fa1f8046756544f8cce6",
        "id": "6z5wBRxa5vvx",
        "colab_type": "text"
      },
      "source": [
        "Let's see some samples of the processed data. The digits are more sharp now"
      ]
    },
    {
      "cell_type": "code",
      "metadata": {
        "_uuid": "e0b3d05de0d4a6d683f8bbf9dcadbecd557d8d7c",
        "id": "6YKxQtKc5vvy",
        "colab_type": "code",
        "colab": {},
        "outputId": "c0b4a7c8-6d0a-410c-865b-b2f37f224998"
      },
      "source": [
        "plt.subplot(221)\n",
        "plt.imshow(X_train_all[0], cmap=plt.get_cmap('gray'))\n",
        "plt.subplot(222)\n",
        "plt.imshow(X_train_all[1], cmap=plt.get_cmap('gray'))\n",
        "plt.subplot(223)\n",
        "plt.imshow(X_train_all[2], cmap=plt.get_cmap('gray'))\n",
        "plt.subplot(224)\n",
        "plt.imshow(X_train_all[3], cmap=plt.get_cmap('gray'))\n",
        "# show the plot\n",
        "plt.show()"
      ],
      "execution_count": 0,
      "outputs": [
        {
          "output_type": "display_data",
          "data": {
            "image/png": "[encoded data removed]",
            "text/plain": [
              "<matplotlib.figure.Figure at 0x2501566ec50>"
            ]
          },
          "metadata": {
            "tags": []
          }
        }
      ]
    },
    {
      "cell_type": "markdown",
      "metadata": {
        "_uuid": "4a5791e2c7d37e6c230dd8ef5fdfb6f7b592cdb6",
        "id": "Hv2YduCx5vv0",
        "colab_type": "text"
      },
      "source": [
        "**Histogram of digit**"
      ]
    },
    {
      "cell_type": "code",
      "metadata": {
        "_uuid": "c9d6d00dc0cdda91eb8baaecb33b497c4a216385",
        "id": "7hk9fT_05vv0",
        "colab_type": "code",
        "colab": {},
        "outputId": "280d8711-bc3a-4303-8d0e-562a785f6ce6"
      },
      "source": [
        "imgg=X_train_all[1]\n",
        "hist = cv2.calcHist([imgg],[0],None,[256],[0,256])\n",
        "plt.hist(imgg.ravel(),256,[0,256])\n",
        " \n",
        "# show the plotting graph of an image\n",
        "\n",
        "plt.show()"
      ],
      "execution_count": 0,
      "outputs": [
        {
          "output_type": "display_data",
          "data": {
            "image/png": "[encoded data removed]",
            "text/plain": [
              "<matplotlib.figure.Figure at 0x25015984780>"
            ]
          },
          "metadata": {
            "tags": []
          }
        }
      ]
    },
    {
      "cell_type": "code",
      "metadata": {
        "_uuid": "193edae07f21588132a68d0eed2b1f4646cf8a28",
        "id": "AI5ce1xM5vv2",
        "colab_type": "code",
        "colab": {},
        "outputId": "4710c857-6c79-473b-c711-7edc6331bad6"
      },
      "source": [
        "plt.imshow(X_train_all[1])"
      ],
      "execution_count": 0,
      "outputs": [
        {
          "output_type": "execute_result",
          "data": {
            "text/plain": [
              "<matplotlib.image.AxesImage at 0x25015f24b00>"
            ]
          },
          "metadata": {
            "tags": []
          },
          "execution_count": 10
        },
        {
          "output_type": "display_data",
          "data": {
            "image/png": "[encoded data removed]",
            "text/plain": [
              "<matplotlib.figure.Figure at 0x25015984c88>"
            ]
          },
          "metadata": {
            "tags": []
          }
        }
      ]
    },
    {
      "cell_type": "code",
      "metadata": {
        "_cell_guid": "5930fd41-039e-4385-b753-127a5e3494ce",
        "_uuid": "57a68268499ba8d1d68d6b62d45f6c64a6453d53",
        "id": "XnbJhwPN5vv3",
        "colab_type": "code",
        "colab": {},
        "outputId": "3bb9d7cc-7030-480e-ff4f-89be837e8e72"
      },
      "source": [
        "X_test_a=get_data(paths_test_a,resize_dim=RESIZE_DIM)\n",
        "X_test_b=get_data(paths_test_b,resize_dim=RESIZE_DIM)\n",
        "X_test_c=get_data(paths_test_c,resize_dim=RESIZE_DIM)\n",
        "X_test_d=get_data(paths_test_d,resize_dim=RESIZE_DIM)\n",
        "X_test_e=get_data(paths_test_e,resize_dim=RESIZE_DIM)\n",
        "X_test_f=get_data(paths_test_f,resize_dim=RESIZE_DIM)\n",
        "X_test_auga=get_data(paths_test_auga,resize_dim=RESIZE_DIM)\n",
        "X_test_augc=get_data(paths_test_augc,resize_dim=RESIZE_DIM)"
      ],
      "execution_count": 0,
      "outputs": [
        {
          "output_type": "stream",
          "text": [
            "processed 3489/3489\n",
            "processed 69/69\n",
            "processed 4381/4381\n",
            "processed 1948/1948\n",
            "processed 2970/2970\n",
            "processed 495/495\n",
            "processed 2168/2168\n",
            "processed 2106/2106\n"
          ],
          "name": "stdout"
        }
      ]
    },
    {
      "cell_type": "code",
      "metadata": {
        "_cell_guid": "1b380d90-c66f-42c9-ae97-5103e18a7c7a",
        "_uuid": "a26c04ac67f1c7919dede57707dd11f94d4590cb",
        "scrolled": true,
        "id": "4qtquGrr5vv5",
        "colab_type": "code",
        "colab": {}
      },
      "source": [
        "X_test_all=np.concatenate((X_test_a,X_test_b,X_test_c,X_test_d,X_test_e,X_test_f,X_test_auga,X_test_augc))"
      ],
      "execution_count": 0,
      "outputs": []
    },
    {
      "cell_type": "code",
      "metadata": {
        "_uuid": "e8ef1f0166e80464b15fc7e23c4be85cc92129ed",
        "id": "KDZmeZZ85vv6",
        "colab_type": "code",
        "colab": {},
        "outputId": "32eaa2b3-4a6f-4a13-b7f4-d4f2ac4c8d7d"
      },
      "source": [
        "X_tshow_all=X_test_all\n",
        "X_tshow_all.shape"
      ],
      "execution_count": 0,
      "outputs": [
        {
          "output_type": "execute_result",
          "data": {
            "text/plain": [
              "(17626, 32, 32)"
            ]
          },
          "metadata": {
            "tags": []
          },
          "execution_count": 13
        }
      ]
    },
    {
      "cell_type": "markdown",
      "metadata": {
        "_uuid": "050db40f873909fb7eaddc593742560b81bb104f",
        "id": "IEXF5bG85vv9",
        "colab_type": "text"
      },
      "source": [
        "We will now convert image to 1 color channel"
      ]
    },
    {
      "cell_type": "code",
      "metadata": {
        "_uuid": "3a924ec72e3e201ab7fc7a7b14c4285625cc7788",
        "id": "7-h2lXrV5vv9",
        "colab_type": "code",
        "colab": {}
      },
      "source": [
        "X_train_all = X_train_all.reshape(X_train_all.shape[0],32, 32,1).astype('float32')\n",
        "X_test_all = X_test_all.reshape(X_test_all.shape[0],32, 32,1).astype('float32')"
      ],
      "execution_count": 0,
      "outputs": []
    },
    {
      "cell_type": "code",
      "metadata": {
        "_uuid": "b6e46f3c07abdc22612a4996ea626f050a9b84d9",
        "id": "7hH5Aihy5vv_",
        "colab_type": "code",
        "colab": {},
        "outputId": "5ba02db3-078f-49f7-ea2e-be04f868ddc3"
      },
      "source": [
        "X_train_all.shape"
      ],
      "execution_count": 0,
      "outputs": [
        {
          "output_type": "execute_result",
          "data": {
            "text/plain": [
              "(72045, 32, 32, 1)"
            ]
          },
          "metadata": {
            "tags": []
          },
          "execution_count": 15
        }
      ]
    },
    {
      "cell_type": "markdown",
      "metadata": {
        "_uuid": "a75a4c52d3ebc246ac7ed01da04a47e4c0c6816e",
        "id": "CD80F_yk5vwC",
        "colab_type": "text"
      },
      "source": [
        "**Normalize data**"
      ]
    },
    {
      "cell_type": "code",
      "metadata": {
        "_uuid": "f35d6a704e6d1015a2e65a5ca8f66e1aef8afb9b",
        "id": "HOJig0sU5vwD",
        "colab_type": "code",
        "colab": {}
      },
      "source": [
        "X_train_all = X_train_all/255\n",
        "X_test_all=X_test_all/255"
      ],
      "execution_count": 0,
      "outputs": []
    },
    {
      "cell_type": "markdown",
      "metadata": {
        "_cell_guid": "d32f9092-0d61-4a31-940a-c47bd4a7ab70",
        "_uuid": "100fe511f70f708fe5a9a4a20a423d5cc5fc5d31",
        "id": "AcRNimMg5vwF",
        "colab_type": "text"
      },
      "source": [
        "Next, we are going to randomly choose 80% of the training data and use it to train our neural network. The remaining 20% images are going to be our validation data."
      ]
    },
    {
      "cell_type": "code",
      "metadata": {
        "_cell_guid": "45550d4b-7b11-4277-b968-3cbc74161537",
        "_uuid": "ec1470e959cf087a27d9ca3d349f2f5dd8687528",
        "id": "nmBOV3uD5vwF",
        "colab_type": "code",
        "colab": {}
      },
      "source": [
        "indices=list(range(len(X_train_all)))\n",
        "np.random.seed(42)\n",
        "np.random.shuffle(indices)\n",
        "\n",
        "ind=int(len(indices)*0.80)\n",
        "# train data\n",
        "X_train=X_train_all[indices[:ind]] \n",
        "y_train=y_train_all[indices[:ind]]\n",
        "# validation data\n",
        "X_val=X_train_all[indices[-(len(indices)-ind):]] \n",
        "y_val=y_train_all[indices[-(len(indices)-ind):]]"
      ],
      "execution_count": 0,
      "outputs": []
    },
    {
      "cell_type": "markdown",
      "metadata": {
        "_cell_guid": "32382aae-4756-457e-af68-5fd94603ddfb",
        "_uuid": "ba5d4e25fb97b4afcb84f85c8788da6244afadaf",
        "id": "qQFsPI3S5vwG",
        "colab_type": "text"
      },
      "source": [
        "## Step 2: Design the model"
      ]
    },
    {
      "cell_type": "markdown",
      "metadata": {
        "_cell_guid": "8f3f9cf5-17d0-4b3a-b544-84bee00bf280",
        "_uuid": "52b0f9b0fabc92f87bcd85ca6e04c93df7343ae4",
        "id": "nJXUqiF05vwH",
        "colab_type": "text"
      },
      "source": [
        ""
      ]
    },
    {
      "cell_type": "code",
      "metadata": {
        "_uuid": "9748e26b1a1cbda489a438723277d7a93abcb3c8",
        "id": "m5Ff27HH5vwH",
        "colab_type": "code",
        "colab": {},
        "outputId": "1cbf5d94-d5f2-47f0-d869-bbeaee260c75"
      },
      "source": [
        "def my_model(img_size=32,channels=1):\n",
        "    model = Sequential()\n",
        "    input_shape = (img_size,img_size,channels)\n",
        "    model.add(Conv2D(32, (5, 5), input_shape=input_shape,activation='relu', padding='same'))\n",
        "    model.add(Conv2D(32, (5, 5), activation='relu', padding='same'))\n",
        "    model.add(MaxPooling2D(pool_size=(2, 2)))\n",
        "\n",
        "    model.add(Conv2D(128, (3, 3),activation='relu',padding='same'))\n",
        "    model.add(Conv2D(128, (3, 3),activation='relu',padding='same'))\n",
        "    \n",
        "    model.add(MaxPooling2D(pool_size=(2, 2)))\n",
        "\n",
        "    model.add(Conv2D(256, (3, 3),activation='relu',padding='same'))\n",
        "    model.add(Conv2D(256, (3, 3),activation='relu',padding='same'))\n",
        "    model.add(MaxPooling2D(pool_size=(2, 2)))\n",
        "\n",
        "    model.add(Flatten())\n",
        "    model.add(Dense(64))\n",
        "    model.add(Activation('relu'))\n",
        "    model.add(Dropout(0.2))\n",
        "    model.add(Dense(10))\n",
        "    model.add(Activation('softmax'))\n",
        "    \n",
        "    model.compile(loss='categorical_crossentropy', metrics=['accuracy'],optimizer='adam')\n",
        "    # UNCOMMENT THIS TO VIEW THE ARCHITECTURE\n",
        "    #model.summary()\n",
        "    \n",
        "    return model\n",
        "model=my_model()\n",
        "model.summary()"
      ],
      "execution_count": 0,
      "outputs": [
        {
          "output_type": "stream",
          "text": [
            "_________________________________________________________________\n",
            "Layer (type)                 Output Shape              Param #   \n",
            "=================================================================\n",
            "conv2d_1 (Conv2D)            (None, 32, 32, 32)        832       \n",
            "_________________________________________________________________\n",
            "conv2d_2 (Conv2D)            (None, 32, 32, 32)        25632     \n",
            "_________________________________________________________________\n",
            "max_pooling2d_1 (MaxPooling2 (None, 16, 16, 32)        0         \n",
            "_________________________________________________________________\n",
            "conv2d_3 (Conv2D)            (None, 16, 16, 128)       36992     \n",
            "_________________________________________________________________\n",
            "conv2d_4 (Conv2D)            (None, 16, 16, 128)       147584    \n",
            "_________________________________________________________________\n",
            "max_pooling2d_2 (MaxPooling2 (None, 8, 8, 128)         0         \n",
            "_________________________________________________________________\n",
            "conv2d_5 (Conv2D)            (None, 8, 8, 256)         295168    \n",
            "_________________________________________________________________\n",
            "conv2d_6 (Conv2D)            (None, 8, 8, 256)         590080    \n",
            "_________________________________________________________________\n",
            "max_pooling2d_3 (MaxPooling2 (None, 4, 4, 256)         0         \n",
            "_________________________________________________________________\n",
            "flatten_1 (Flatten)          (None, 4096)              0         \n",
            "_________________________________________________________________\n",
            "dense_1 (Dense)              (None, 64)                262208    \n",
            "_________________________________________________________________\n",
            "activation_1 (Activation)    (None, 64)                0         \n",
            "_________________________________________________________________\n",
            "dropout_1 (Dropout)          (None, 64)                0         \n",
            "_________________________________________________________________\n",
            "dense_2 (Dense)              (None, 10)                650       \n",
            "_________________________________________________________________\n",
            "activation_2 (Activation)    (None, 10)                0         \n",
            "=================================================================\n",
            "Total params: 1,359,146\n",
            "Trainable params: 1,359,146\n",
            "Non-trainable params: 0\n",
            "_________________________________________________________________\n"
          ],
          "name": "stdout"
        }
      ]
    },
    {
      "cell_type": "markdown",
      "metadata": {
        "_cell_guid": "ee9607d4-40d3-449d-948d-ca743a6f9d77",
        "_uuid": "0b0adac9af387df7adc0cf26954802305849396e",
        "id": "HKEyRXhG5vwJ",
        "colab_type": "text"
      },
      "source": [
        "## Step 3: Train the model"
      ]
    },
    {
      "cell_type": "code",
      "metadata": {
        "_cell_guid": "7b15bdc9-1794-4eda-9d48-f544be3e382c",
        "_uuid": "f220f61fae1fae8c1cfb2f843300b489937b0090",
        "scrolled": true,
        "id": "g-4HMu905vwJ",
        "colab_type": "code",
        "colab": {},
        "outputId": "207ef042-b859-4b5e-da34-99dae0885688"
      },
      "source": [
        "path_model='model_filter.h5' # save model at this location after each epoch\n",
        "K.tensorflow_backend.clear_session() # destroys the current graph and builds a new one\n",
        "model=my_model() # create the model\n",
        "K.set_value(model.optimizer.lr,1e-3) # set the learning rate\n",
        "# fit the model\n",
        "h=model.fit(x=X_train,     \n",
        "            y=y_train, \n",
        "            batch_size=64, \n",
        "            epochs=10, \n",
        "            verbose=1, \n",
        "            validation_data=(X_val,y_val),\n",
        "            shuffle=True,\n",
        "            callbacks=[\n",
        "                ModelCheckpoint(filepath=path_model),\n",
        "            ]\n",
        "            )"
      ],
      "execution_count": 0,
      "outputs": [
        {
          "output_type": "stream",
          "text": [
            "Train on 57636 samples, validate on 14409 samples\n",
            "Epoch 1/100\n",
            "57636/57636 [==============================] - 316s 5ms/step - loss: 0.6478 - acc: 0.7713 - val_loss: 0.1537 - val_acc: 0.9563\n",
            "Epoch 2/100\n",
            "57636/57636 [==============================] - 320s 6ms/step - loss: 0.1647 - acc: 0.9514 - val_loss: 0.1006 - val_acc: 0.9699\n",
            "Epoch 3/100\n",
            "57636/57636 [==============================] - 311s 5ms/step - loss: 0.1058 - acc: 0.9698 - val_loss: 0.0848 - val_acc: 0.9766\n",
            "Epoch 4/100\n",
            "57636/57636 [==============================] - 316s 5ms/step - loss: 0.0744 - acc: 0.9790 - val_loss: 0.0789 - val_acc: 0.9784\n",
            "Epoch 5/100\n",
            "57636/57636 [==============================] - 312s 5ms/step - loss: 0.0620 - acc: 0.9818 - val_loss: 0.0769 - val_acc: 0.9792\n",
            "Epoch 6/100\n",
            "57636/57636 [==============================] - 313s 5ms/step - loss: 0.0510 - acc: 0.9859 - val_loss: 0.0674 - val_acc: 0.9804\n",
            "Epoch 7/100\n",
            "57636/57636 [==============================] - 332s 6ms/step - loss: 0.0407 - acc: 0.9884 - val_loss: 0.0711 - val_acc: 0.9805\n",
            "Epoch 8/100\n",
            "57636/57636 [==============================] - 319s 6ms/step - loss: 0.0351 - acc: 0.9900 - val_loss: 0.0731 - val_acc: 0.9813\n",
            "Epoch 9/100\n",
            "57636/57636 [==============================] - 310s 5ms/step - loss: 0.0306 - acc: 0.9909 - val_loss: 0.0750 - val_acc: 0.9811\n",
            "Epoch 10/100\n",
            "57636/57636 [==============================] - 311s 5ms/step - loss: 0.0282 - acc: 0.9919 - val_loss: 0.0703 - val_acc: 0.9847\n",
            "Epoch 11/100\n",
            "57636/57636 [==============================] - 311s 5ms/step - loss: 0.0232 - acc: 0.9936 - val_loss: 0.0664 - val_acc: 0.9838\n",
            "Epoch 12/100\n",
            "57636/57636 [==============================] - 311s 5ms/step - loss: 0.0223 - acc: 0.9930 - val_loss: 0.0809 - val_acc: 0.9822\n",
            "Epoch 13/100\n",
            "57636/57636 [==============================] - 311s 5ms/step - loss: 0.0226 - acc: 0.9938 - val_loss: 0.0967 - val_acc: 0.9811\n",
            "Epoch 14/100\n",
            "57636/57636 [==============================] - 311s 5ms/step - loss: 0.0226 - acc: 0.9935 - val_loss: 0.0779 - val_acc: 0.9840\n",
            "Epoch 15/100\n",
            "57636/57636 [==============================] - 311s 5ms/step - loss: 0.0179 - acc: 0.9947 - val_loss: 0.0757 - val_acc: 0.9829\n",
            "Epoch 16/100\n",
            "57636/57636 [==============================] - 311s 5ms/step - loss: 0.0180 - acc: 0.9945 - val_loss: 0.0730 - val_acc: 0.9842\n",
            "Epoch 17/100\n",
            "57636/57636 [==============================] - 311s 5ms/step - loss: 0.0185 - acc: 0.9948 - val_loss: 0.0747 - val_acc: 0.9841\n",
            "Epoch 18/100\n",
            "57636/57636 [==============================] - 311s 5ms/step - loss: 0.0157 - acc: 0.9953 - val_loss: 0.0737 - val_acc: 0.9847\n",
            "Epoch 19/100\n",
            "57636/57636 [==============================] - 311s 5ms/step - loss: 0.0146 - acc: 0.9960 - val_loss: 0.0864 - val_acc: 0.9824\n",
            "Epoch 20/100\n",
            "57636/57636 [==============================] - 311s 5ms/step - loss: 0.0134 - acc: 0.9962 - val_loss: 0.0875 - val_acc: 0.9842\n",
            "Epoch 21/100\n",
            "57636/57636 [==============================] - 311s 5ms/step - loss: 0.0139 - acc: 0.9960 - val_loss: 0.0955 - val_acc: 0.9834\n",
            "Epoch 22/100\n",
            "57636/57636 [==============================] - 313s 5ms/step - loss: 0.0146 - acc: 0.9957 - val_loss: 0.0843 - val_acc: 0.9838\n",
            "Epoch 23/100\n",
            "57636/57636 [==============================] - 311s 5ms/step - loss: 0.0120 - acc: 0.9964 - val_loss: 0.0939 - val_acc: 0.9849\n",
            "Epoch 24/100\n",
            "57636/57636 [==============================] - 311s 5ms/step - loss: 0.0103 - acc: 0.9973 - val_loss: 0.0883 - val_acc: 0.9844\n",
            "Epoch 25/100\n",
            "57636/57636 [==============================] - 309s 5ms/step - loss: 0.0117 - acc: 0.9967 - val_loss: 0.0970 - val_acc: 0.9824\n",
            "Epoch 26/100\n",
            "57636/57636 [==============================] - 310s 5ms/step - loss: 0.0153 - acc: 0.9955 - val_loss: 0.1030 - val_acc: 0.9826\n",
            "Epoch 27/100\n",
            "57636/57636 [==============================] - 311s 5ms/step - loss: 0.0139 - acc: 0.9960 - val_loss: 0.0888 - val_acc: 0.9846\n",
            "Epoch 28/100\n",
            "57636/57636 [==============================] - 311s 5ms/step - loss: 0.0064 - acc: 0.9982 - val_loss: 0.0929 - val_acc: 0.9858\n",
            "Epoch 29/100\n",
            "57636/57636 [==============================] - 310s 5ms/step - loss: 0.0092 - acc: 0.9977 - val_loss: 0.0858 - val_acc: 0.9838\n",
            "Epoch 30/100\n",
            "57636/57636 [==============================] - 310s 5ms/step - loss: 0.0140 - acc: 0.9963 - val_loss: 0.0811 - val_acc: 0.9842\n",
            "Epoch 31/100\n",
            "57636/57636 [==============================] - 311s 5ms/step - loss: 0.0122 - acc: 0.9970 - val_loss: 0.0945 - val_acc: 0.9838\n",
            "Epoch 32/100\n",
            "57636/57636 [==============================] - 310s 5ms/step - loss: 0.0091 - acc: 0.9978 - val_loss: 0.0984 - val_acc: 0.9858\n",
            "Epoch 33/100\n",
            "57636/57636 [==============================] - 311s 5ms/step - loss: 0.0058 - acc: 0.9986 - val_loss: 0.1054 - val_acc: 0.9845\n",
            "Epoch 34/100\n",
            "57636/57636 [==============================] - 311s 5ms/step - loss: 0.0126 - acc: 0.9968 - val_loss: 0.0965 - val_acc: 0.9850\n",
            "Epoch 35/100\n",
            "57636/57636 [==============================] - 310s 5ms/step - loss: 0.0109 - acc: 0.9972 - val_loss: 0.1086 - val_acc: 0.9831\n",
            "Epoch 36/100\n",
            "57636/57636 [==============================] - 310s 5ms/step - loss: 0.0108 - acc: 0.9971 - val_loss: 0.1043 - val_acc: 0.9842\n",
            "Epoch 37/100\n",
            "57636/57636 [==============================] - 310s 5ms/step - loss: 0.0080 - acc: 0.9980 - val_loss: 0.1223 - val_acc: 0.9811\n",
            "Epoch 38/100\n",
            "57636/57636 [==============================] - 310s 5ms/step - loss: 0.0135 - acc: 0.9967 - val_loss: 0.1045 - val_acc: 0.9856\n",
            "Epoch 39/100\n",
            "57636/57636 [==============================] - 310s 5ms/step - loss: 0.0079 - acc: 0.9979 - val_loss: 0.1239 - val_acc: 0.9828\n",
            "Epoch 40/100\n",
            "57636/57636 [==============================] - 310s 5ms/step - loss: 0.0111 - acc: 0.9974 - val_loss: 0.1165 - val_acc: 0.9842\n",
            "Epoch 41/100\n",
            "57636/57636 [==============================] - 310s 5ms/step - loss: 0.0113 - acc: 0.9971 - val_loss: 0.1020 - val_acc: 0.9848\n",
            "Epoch 42/100\n",
            "57636/57636 [==============================] - 310s 5ms/step - loss: 0.0066 - acc: 0.9983 - val_loss: 0.1109 - val_acc: 0.9853\n",
            "Epoch 43/100\n",
            "57636/57636 [==============================] - 310s 5ms/step - loss: 0.0082 - acc: 0.9981 - val_loss: 0.1111 - val_acc: 0.9833\n",
            "Epoch 44/100\n",
            "57636/57636 [==============================] - 310s 5ms/step - loss: 0.0108 - acc: 0.9976 - val_loss: 0.1166 - val_acc: 0.9825\n",
            "Epoch 45/100\n",
            "57636/57636 [==============================] - 311s 5ms/step - loss: 0.0109 - acc: 0.9972 - val_loss: 0.1241 - val_acc: 0.9842\n",
            "Epoch 46/100\n",
            "57636/57636 [==============================] - 310s 5ms/step - loss: 0.0119 - acc: 0.9971 - val_loss: 0.1126 - val_acc: 0.9848\n",
            "Epoch 47/100\n",
            "57636/57636 [==============================] - 310s 5ms/step - loss: 0.0111 - acc: 0.9977 - val_loss: 0.0921 - val_acc: 0.9849\n",
            "Epoch 48/100\n",
            "57636/57636 [==============================] - 310s 5ms/step - loss: 0.0069 - acc: 0.9982 - val_loss: 0.1179 - val_acc: 0.9836\n",
            "Epoch 49/100\n",
            "57636/57636 [==============================] - 310s 5ms/step - loss: 0.0096 - acc: 0.9979 - val_loss: 0.1122 - val_acc: 0.9842\n",
            "Epoch 50/100\n",
            "57636/57636 [==============================] - 310s 5ms/step - loss: 0.0113 - acc: 0.9977 - val_loss: 0.0994 - val_acc: 0.9854\n",
            "Epoch 51/100\n",
            "57636/57636 [==============================] - 310s 5ms/step - loss: 0.0045 - acc: 0.9990 - val_loss: 0.1187 - val_acc: 0.9845\n",
            "Epoch 52/100\n",
            "57636/57636 [==============================] - 310s 5ms/step - loss: 0.0121 - acc: 0.9972 - val_loss: 0.1199 - val_acc: 0.9838\n",
            "Epoch 53/100\n",
            "57636/57636 [==============================] - 310s 5ms/step - loss: 0.0109 - acc: 0.9976 - val_loss: 0.1114 - val_acc: 0.9840\n",
            "Epoch 54/100\n",
            "57636/57636 [==============================] - 309s 5ms/step - loss: 0.0083 - acc: 0.9980 - val_loss: 0.1158 - val_acc: 0.9845\n",
            "Epoch 55/100\n",
            "57636/57636 [==============================] - 309s 5ms/step - loss: 0.0051 - acc: 0.9988 - val_loss: 0.1288 - val_acc: 0.9829\n",
            "Epoch 56/100\n",
            "57636/57636 [==============================] - 310s 5ms/step - loss: 0.0122 - acc: 0.9971 - val_loss: 0.1215 - val_acc: 0.9840\n",
            "Epoch 57/100\n",
            "57636/57636 [==============================] - 310s 5ms/step - loss: 0.0106 - acc: 0.9975 - val_loss: 0.1167 - val_acc: 0.9847\n",
            "Epoch 58/100\n",
            "57636/57636 [==============================] - 310s 5ms/step - loss: 0.0088 - acc: 0.9979 - val_loss: 0.1157 - val_acc: 0.9849\n",
            "Epoch 59/100\n",
            "57636/57636 [==============================] - 310s 5ms/step - loss: 0.0083 - acc: 0.9980 - val_loss: 0.1274 - val_acc: 0.9844\n",
            "Epoch 60/100\n",
            "57636/57636 [==============================] - 309s 5ms/step - loss: 0.0072 - acc: 0.9985 - val_loss: 0.1237 - val_acc: 0.9843\n",
            "Epoch 61/100\n",
            "57636/57636 [==============================] - 310s 5ms/step - loss: 0.0066 - acc: 0.9983 - val_loss: 0.1275 - val_acc: 0.9847\n",
            "Epoch 62/100\n",
            "57636/57636 [==============================] - 311s 5ms/step - loss: 0.0096 - acc: 0.9978 - val_loss: 0.1189 - val_acc: 0.9856\n",
            "Epoch 63/100\n",
            "57636/57636 [==============================] - 311s 5ms/step - loss: 0.0090 - acc: 0.9980 - val_loss: 0.1163 - val_acc: 0.9849\n",
            "Epoch 64/100\n",
            "57636/57636 [==============================] - 311s 5ms/step - loss: 0.0130 - acc: 0.9974 - val_loss: 0.1425 - val_acc: 0.9831\n",
            "Epoch 65/100\n",
            "57636/57636 [==============================] - 311s 5ms/step - loss: 0.0128 - acc: 0.9975 - val_loss: 0.1281 - val_acc: 0.9846\n",
            "Epoch 66/100\n",
            "57636/57636 [==============================] - 310s 5ms/step - loss: 0.0055 - acc: 0.9989 - val_loss: 0.1436 - val_acc: 0.9840\n",
            "Epoch 67/100\n",
            "57636/57636 [==============================] - 311s 5ms/step - loss: 0.0111 - acc: 0.9976 - val_loss: 0.1288 - val_acc: 0.9852\n",
            "Epoch 68/100\n",
            "57636/57636 [==============================] - 311s 5ms/step - loss: 0.0055 - acc: 0.9987 - val_loss: 0.1250 - val_acc: 0.9861\n",
            "Epoch 69/100\n",
            "57636/57636 [==============================] - 311s 5ms/step - loss: 0.0069 - acc: 0.9986 - val_loss: 0.1196 - val_acc: 0.9851\n",
            "Epoch 70/100\n",
            "57636/57636 [==============================] - 311s 5ms/step - loss: 0.0053 - acc: 0.9989 - val_loss: 0.1507 - val_acc: 0.9822\n",
            "Epoch 71/100\n",
            "57636/57636 [==============================] - 311s 5ms/step - loss: 0.0085 - acc: 0.9982 - val_loss: 0.1329 - val_acc: 0.9864\n",
            "Epoch 72/100\n",
            "57636/57636 [==============================] - 311s 5ms/step - loss: 0.0159 - acc: 0.9968 - val_loss: 0.1223 - val_acc: 0.9852\n",
            "Epoch 73/100\n",
            "57636/57636 [==============================] - 311s 5ms/step - loss: 0.0092 - acc: 0.9981 - val_loss: 0.1239 - val_acc: 0.9837\n",
            "Epoch 74/100\n",
            "57636/57636 [==============================] - 311s 5ms/step - loss: 0.0118 - acc: 0.9975 - val_loss: 0.1110 - val_acc: 0.9851\n",
            "Epoch 75/100\n",
            "57636/57636 [==============================] - 311s 5ms/step - loss: 0.0084 - acc: 0.9984 - val_loss: 0.1319 - val_acc: 0.9844\n",
            "Epoch 76/100\n",
            "57636/57636 [==============================] - 311s 5ms/step - loss: 0.0100 - acc: 0.9980 - val_loss: 0.1285 - val_acc: 0.9845\n",
            "Epoch 77/100\n",
            "57636/57636 [==============================] - 310s 5ms/step - loss: 0.0062 - acc: 0.9988 - val_loss: 0.1535 - val_acc: 0.9839\n",
            "Epoch 78/100\n",
            "57636/57636 [==============================] - 310s 5ms/step - loss: 0.0083 - acc: 0.9986 - val_loss: 0.1462 - val_acc: 0.9844\n",
            "Epoch 79/100\n",
            "57636/57636 [==============================] - 310s 5ms/step - loss: 0.0126 - acc: 0.9974 - val_loss: 0.1264 - val_acc: 0.9845\n",
            "Epoch 80/100\n",
            "57636/57636 [==============================] - 311s 5ms/step - loss: 0.0095 - acc: 0.9981 - val_loss: 0.1407 - val_acc: 0.9846\n",
            "Epoch 81/100\n",
            "57636/57636 [==============================] - 310s 5ms/step - loss: 0.0083 - acc: 0.9981 - val_loss: 0.1495 - val_acc: 0.9846\n",
            "Epoch 82/100\n",
            "57636/57636 [==============================] - 310s 5ms/step - loss: 0.0116 - acc: 0.9979 - val_loss: 0.1359 - val_acc: 0.9847\n",
            "Epoch 83/100\n",
            "57636/57636 [==============================] - 310s 5ms/step - loss: 0.0116 - acc: 0.9978 - val_loss: 0.1285 - val_acc: 0.9853\n",
            "Epoch 84/100\n",
            "57636/57636 [==============================] - 309s 5ms/step - loss: 0.0145 - acc: 0.9978 - val_loss: 0.1623 - val_acc: 0.9832\n",
            "Epoch 85/100\n",
            "57636/57636 [==============================] - 309s 5ms/step - loss: 0.0144 - acc: 0.9973 - val_loss: 0.1384 - val_acc: 0.9844\n",
            "Epoch 86/100\n",
            "57636/57636 [==============================] - 309s 5ms/step - loss: 0.0097 - acc: 0.9979 - val_loss: 0.1294 - val_acc: 0.9858\n",
            "Epoch 87/100\n",
            "57636/57636 [==============================] - 309s 5ms/step - loss: 0.0076 - acc: 0.9985 - val_loss: 0.1388 - val_acc: 0.9861\n",
            "Epoch 88/100\n",
            "57636/57636 [==============================] - 309s 5ms/step - loss: 0.0109 - acc: 0.9982 - val_loss: 0.1781 - val_acc: 0.9818\n",
            "Epoch 89/100\n",
            "57636/57636 [==============================] - 309s 5ms/step - loss: 0.0141 - acc: 0.9974 - val_loss: 0.1412 - val_acc: 0.9860\n",
            "Epoch 90/100\n",
            "57636/57636 [==============================] - 309s 5ms/step - loss: 0.0114 - acc: 0.9980 - val_loss: 0.1395 - val_acc: 0.9851\n",
            "Epoch 91/100\n",
            "57636/57636 [==============================] - 310s 5ms/step - loss: 0.0118 - acc: 0.9980 - val_loss: 0.1360 - val_acc: 0.9856\n",
            "Epoch 92/100\n",
            "57636/57636 [==============================] - 310s 5ms/step - loss: 0.0069 - acc: 0.9986 - val_loss: 0.1513 - val_acc: 0.9837\n",
            "Epoch 93/100\n",
            "57636/57636 [==============================] - 310s 5ms/step - loss: 0.0113 - acc: 0.9977 - val_loss: 0.1415 - val_acc: 0.9830\n",
            "Epoch 94/100\n",
            "57636/57636 [==============================] - 309s 5ms/step - loss: 0.0068 - acc: 0.9986 - val_loss: 0.1622 - val_acc: 0.9841\n",
            "Epoch 95/100\n",
            "57636/57636 [==============================] - 309s 5ms/step - loss: 0.0079 - acc: 0.9986 - val_loss: 0.1519 - val_acc: 0.9847\n",
            "Epoch 96/100\n",
            "57636/57636 [==============================] - 309s 5ms/step - loss: 0.0116 - acc: 0.9981 - val_loss: 0.1611 - val_acc: 0.9827\n",
            "Epoch 97/100\n",
            "57636/57636 [==============================] - 309s 5ms/step - loss: 0.0233 - acc: 0.9964 - val_loss: 0.1583 - val_acc: 0.9833\n",
            "Epoch 98/100\n",
            "57636/57636 [==============================] - 310s 5ms/step - loss: 0.0117 - acc: 0.9980 - val_loss: 0.1435 - val_acc: 0.9846\n",
            "Epoch 99/100\n",
            "57636/57636 [==============================] - 310s 5ms/step - loss: 0.0072 - acc: 0.9989 - val_loss: 0.1863 - val_acc: 0.9824\n",
            "Epoch 100/100\n",
            "57636/57636 [==============================] - 309s 5ms/step - loss: 0.0182 - acc: 0.9975 - val_loss: 0.2646 - val_acc: 0.9774\n"
          ],
          "name": "stdout"
        }
      ]
    },
    {
      "cell_type": "markdown",
      "metadata": {
        "_cell_guid": "1862ff7c-a071-4015-bb48-f9670a3112db",
        "_uuid": "d89525da13f845e3417890b968fb5d7753f4e54f",
        "id": "Z61Vbph95vwM",
        "colab_type": "text"
      },
      "source": [
        "# After 30 epochs we have a decent training and valiadation accuracy on dataset."
      ]
    },
    {
      "cell_type": "markdown",
      "metadata": {
        "_cell_guid": "85658a4d-697d-46ef-91cc-e87a8c4c2f89",
        "_uuid": "97b8d77f4c3a692f939ffa94a466dfd257834d5a",
        "id": "et0fg71f5vwM",
        "colab_type": "text"
      },
      "source": [
        "## Result Analysis"
      ]
    },
    {
      "cell_type": "markdown",
      "metadata": {
        "_cell_guid": "6b4b108e-4a11-489c-b068-55fecad1ea67",
        "_uuid": "8913f144fc15314e1a98cead1048635bfd758fd0",
        "id": "_apnLg345vwM",
        "colab_type": "text"
      },
      "source": [
        "Let's observe the images by our model."
      ]
    },
    {
      "cell_type": "code",
      "metadata": {
        "_cell_guid": "383c8574-c022-4a52-a3d9-f6c7edabc44d",
        "_uuid": "0b019de716cc8c0ab602d2600b590d83e310fb1f",
        "id": "2EDsSP3H5vwN",
        "colab_type": "code",
        "colab": {}
      },
      "source": [
        "predictions_prob=model.predict(X_test_all) # get predictions for all the test data"
      ],
      "execution_count": 0,
      "outputs": []
    },
    {
      "cell_type": "code",
      "metadata": {
        "_cell_guid": "d0993d24-b26d-4934-84a0-ac145f4e8594",
        "_uuid": "4822a937ea504052db7b326595866e7a276e0a2a",
        "id": "WWcx9YXO5vwO",
        "colab_type": "code",
        "colab": {}
      },
      "source": [
        "n_sample=200\n",
        "np.random.seed(42)\n",
        "ind=np.random.randint(0,len(X_test_all), size=n_sample)"
      ],
      "execution_count": 0,
      "outputs": []
    },
    {
      "cell_type": "code",
      "metadata": {
        "_cell_guid": "9f4260e9-e5e6-4b5e-8565-d5bed1bbc359",
        "_uuid": "2b6ec0f33275de9e2b2a4b0bd12b202f8d067551",
        "id": "3QL41zbG5vwP",
        "colab_type": "code",
        "colab": {},
        "outputId": "00ab69a1-33df-4e9c-a324-aa5c0ef587d6"
      },
      "source": [
        "imshow_group(X=X_tshow_all[ind],y=None,y_pred=predictions_prob[ind], phase='prediction')"
      ],
      "execution_count": 0,
      "outputs": [
        {
          "output_type": "display_data",
          "data": {
            "image/png": "[encoded data removed]",
            "text/plain": [
              "<matplotlib.figure.Figure at 0x250186ca198>"
            ]
          },
          "metadata": {
            "tags": []
          }
        }
      ]
    },
    {
      "cell_type": "code",
      "metadata": {
        "_cell_guid": "5ac67cd3-11ac-4bb1-9d7a-f60417f45849",
        "_uuid": "6653b48712048170c2f12148c6dfe4988660c02f",
        "id": "37Li23it5vwQ",
        "colab_type": "code",
        "colab": {}
      },
      "source": [
        "labels=[np.argmax(pred) for pred in predictions_prob]"
      ],
      "execution_count": 0,
      "outputs": []
    },
    {
      "cell_type": "code",
      "metadata": {
        "_uuid": "2dd35d48dc06d1532d165756677e990c1fe8eaa3",
        "id": "wS0NiOwO5vwR",
        "colab_type": "code",
        "colab": {}
      },
      "source": [
        "keys=[get_key(path) for path in paths_test_all ]"
      ],
      "execution_count": 0,
      "outputs": []
    },
    {
      "cell_type": "code",
      "metadata": {
        "_uuid": "8fbcfb14dbfe0de631f40ec36bb3e007fdd67ea9",
        "id": "hLnSIOGX5vwT",
        "colab_type": "code",
        "colab": {}
      },
      "source": [
        "create_submission(predictions=labels,keys=keys,path='submission7.csv')"
      ],
      "execution_count": 0,
      "outputs": []
    },
    {
      "cell_type": "code",
      "metadata": {
        "_uuid": "886f58583f4c1e063e7dd2f040a3bef4247f65f9",
        "id": "bB3Co9KP5vwU",
        "colab_type": "code",
        "colab": {},
        "outputId": "e5b9983e-81b6-4d3e-af17-6a69bd9a0af2"
      },
      "source": [
        "prediction = pd.read_csv('submission7.csv')\n",
        "prediction.head(100)"
      ],
      "execution_count": 0,
      "outputs": [
        {
          "output_type": "execute_result",
          "data": {
            "text/html": [
              "<div>\n",
              "<style scoped>\n",
              "    .dataframe tbody tr th:only-of-type {\n",
              "        vertical-align: middle;\n",
              "    }\n",
              "\n",
              "    .dataframe tbody tr th {\n",
              "        vertical-align: top;\n",
              "    }\n",
              "\n",
              "    .dataframe thead th {\n",
              "        text-align: right;\n",
              "    }\n",
              "</style>\n",
              "<table border=\"1\" class=\"dataframe\">\n",
              "  <thead>\n",
              "    <tr style=\"text-align: right;\">\n",
              "      <th></th>\n",
              "      <th>key</th>\n",
              "      <th>label</th>\n",
              "    </tr>\n",
              "  </thead>\n",
              "  <tbody>\n",
              "    <tr>\n",
              "      <th>0</th>\n",
              "      <td>a00000.png</td>\n",
              "      <td>4</td>\n",
              "    </tr>\n",
              "    <tr>\n",
              "      <th>1</th>\n",
              "      <td>a00001.png</td>\n",
              "      <td>9</td>\n",
              "    </tr>\n",
              "    <tr>\n",
              "      <th>2</th>\n",
              "      <td>a00002.png</td>\n",
              "      <td>3</td>\n",
              "    </tr>\n",
              "    <tr>\n",
              "      <th>3</th>\n",
              "      <td>a00003.png</td>\n",
              "      <td>0</td>\n",
              "    </tr>\n",
              "    <tr>\n",
              "      <th>4</th>\n",
              "      <td>a00004.png</td>\n",
              "      <td>4</td>\n",
              "    </tr>\n",
              "    <tr>\n",
              "      <th>5</th>\n",
              "      <td>a00005.png</td>\n",
              "      <td>6</td>\n",
              "    </tr>\n",
              "    <tr>\n",
              "      <th>6</th>\n",
              "      <td>a00006.png</td>\n",
              "      <td>4</td>\n",
              "    </tr>\n",
              "    <tr>\n",
              "      <th>7</th>\n",
              "      <td>a00007.png</td>\n",
              "      <td>5</td>\n",
              "    </tr>\n",
              "    <tr>\n",
              "      <th>8</th>\n",
              "      <td>a00008.png</td>\n",
              "      <td>2</td>\n",
              "    </tr>\n",
              "    <tr>\n",
              "      <th>9</th>\n",
              "      <td>a00009.png</td>\n",
              "      <td>4</td>\n",
              "    </tr>\n",
              "    <tr>\n",
              "      <th>10</th>\n",
              "      <td>a00010.png</td>\n",
              "      <td>2</td>\n",
              "    </tr>\n",
              "    <tr>\n",
              "      <th>11</th>\n",
              "      <td>a00011.png</td>\n",
              "      <td>5</td>\n",
              "    </tr>\n",
              "    <tr>\n",
              "      <th>12</th>\n",
              "      <td>a00012.png</td>\n",
              "      <td>3</td>\n",
              "    </tr>\n",
              "    <tr>\n",
              "      <th>13</th>\n",
              "      <td>a00013.png</td>\n",
              "      <td>7</td>\n",
              "    </tr>\n",
              "    <tr>\n",
              "      <th>14</th>\n",
              "      <td>a00014.png</td>\n",
              "      <td>5</td>\n",
              "    </tr>\n",
              "    <tr>\n",
              "      <th>15</th>\n",
              "      <td>a00015.png</td>\n",
              "      <td>9</td>\n",
              "    </tr>\n",
              "    <tr>\n",
              "      <th>16</th>\n",
              "      <td>a00016.png</td>\n",
              "      <td>3</td>\n",
              "    </tr>\n",
              "    <tr>\n",
              "      <th>17</th>\n",
              "      <td>a00017.png</td>\n",
              "      <td>5</td>\n",
              "    </tr>\n",
              "    <tr>\n",
              "      <th>18</th>\n",
              "      <td>a00018.png</td>\n",
              "      <td>1</td>\n",
              "    </tr>\n",
              "    <tr>\n",
              "      <th>19</th>\n",
              "      <td>a00019.png</td>\n",
              "      <td>3</td>\n",
              "    </tr>\n",
              "    <tr>\n",
              "      <th>20</th>\n",
              "      <td>a00020.png</td>\n",
              "      <td>5</td>\n",
              "    </tr>\n",
              "    <tr>\n",
              "      <th>21</th>\n",
              "      <td>a00021.png</td>\n",
              "      <td>4</td>\n",
              "    </tr>\n",
              "    <tr>\n",
              "      <th>22</th>\n",
              "      <td>a00022.png</td>\n",
              "      <td>7</td>\n",
              "    </tr>\n",
              "    <tr>\n",
              "      <th>23</th>\n",
              "      <td>a00023.png</td>\n",
              "      <td>5</td>\n",
              "    </tr>\n",
              "    <tr>\n",
              "      <th>24</th>\n",
              "      <td>a00024.png</td>\n",
              "      <td>7</td>\n",
              "    </tr>\n",
              "    <tr>\n",
              "      <th>25</th>\n",
              "      <td>a00025.png</td>\n",
              "      <td>8</td>\n",
              "    </tr>\n",
              "    <tr>\n",
              "      <th>26</th>\n",
              "      <td>a00026.png</td>\n",
              "      <td>1</td>\n",
              "    </tr>\n",
              "    <tr>\n",
              "      <th>27</th>\n",
              "      <td>a00027.png</td>\n",
              "      <td>3</td>\n",
              "    </tr>\n",
              "    <tr>\n",
              "      <th>28</th>\n",
              "      <td>a00028.png</td>\n",
              "      <td>8</td>\n",
              "    </tr>\n",
              "    <tr>\n",
              "      <th>29</th>\n",
              "      <td>a00029.png</td>\n",
              "      <td>7</td>\n",
              "    </tr>\n",
              "    <tr>\n",
              "      <th>...</th>\n",
              "      <td>...</td>\n",
              "      <td>...</td>\n",
              "    </tr>\n",
              "    <tr>\n",
              "      <th>70</th>\n",
              "      <td>a00070.png</td>\n",
              "      <td>6</td>\n",
              "    </tr>\n",
              "    <tr>\n",
              "      <th>71</th>\n",
              "      <td>a00071.png</td>\n",
              "      <td>1</td>\n",
              "    </tr>\n",
              "    <tr>\n",
              "      <th>72</th>\n",
              "      <td>a00072.png</td>\n",
              "      <td>7</td>\n",
              "    </tr>\n",
              "    <tr>\n",
              "      <th>73</th>\n",
              "      <td>a00073.png</td>\n",
              "      <td>7</td>\n",
              "    </tr>\n",
              "    <tr>\n",
              "      <th>74</th>\n",
              "      <td>a00074.png</td>\n",
              "      <td>3</td>\n",
              "    </tr>\n",
              "    <tr>\n",
              "      <th>75</th>\n",
              "      <td>a00075.png</td>\n",
              "      <td>0</td>\n",
              "    </tr>\n",
              "    <tr>\n",
              "      <th>76</th>\n",
              "      <td>a00076.png</td>\n",
              "      <td>6</td>\n",
              "    </tr>\n",
              "    <tr>\n",
              "      <th>77</th>\n",
              "      <td>a00077.png</td>\n",
              "      <td>8</td>\n",
              "    </tr>\n",
              "    <tr>\n",
              "      <th>78</th>\n",
              "      <td>a00078.png</td>\n",
              "      <td>6</td>\n",
              "    </tr>\n",
              "    <tr>\n",
              "      <th>79</th>\n",
              "      <td>a00079.png</td>\n",
              "      <td>8</td>\n",
              "    </tr>\n",
              "    <tr>\n",
              "      <th>80</th>\n",
              "      <td>a00080.png</td>\n",
              "      <td>4</td>\n",
              "    </tr>\n",
              "    <tr>\n",
              "      <th>81</th>\n",
              "      <td>a00081.png</td>\n",
              "      <td>7</td>\n",
              "    </tr>\n",
              "    <tr>\n",
              "      <th>82</th>\n",
              "      <td>a00082.png</td>\n",
              "      <td>3</td>\n",
              "    </tr>\n",
              "    <tr>\n",
              "      <th>83</th>\n",
              "      <td>a00083.png</td>\n",
              "      <td>9</td>\n",
              "    </tr>\n",
              "    <tr>\n",
              "      <th>84</th>\n",
              "      <td>a00084.png</td>\n",
              "      <td>3</td>\n",
              "    </tr>\n",
              "    <tr>\n",
              "      <th>85</th>\n",
              "      <td>a00085.png</td>\n",
              "      <td>8</td>\n",
              "    </tr>\n",
              "    <tr>\n",
              "      <th>86</th>\n",
              "      <td>a00086.png</td>\n",
              "      <td>2</td>\n",
              "    </tr>\n",
              "    <tr>\n",
              "      <th>87</th>\n",
              "      <td>a00087.png</td>\n",
              "      <td>3</td>\n",
              "    </tr>\n",
              "    <tr>\n",
              "      <th>88</th>\n",
              "      <td>a00088.png</td>\n",
              "      <td>8</td>\n",
              "    </tr>\n",
              "    <tr>\n",
              "      <th>89</th>\n",
              "      <td>a00089.png</td>\n",
              "      <td>0</td>\n",
              "    </tr>\n",
              "    <tr>\n",
              "      <th>90</th>\n",
              "      <td>a00090.png</td>\n",
              "      <td>5</td>\n",
              "    </tr>\n",
              "    <tr>\n",
              "      <th>91</th>\n",
              "      <td>a00091.png</td>\n",
              "      <td>7</td>\n",
              "    </tr>\n",
              "    <tr>\n",
              "      <th>92</th>\n",
              "      <td>a00092.png</td>\n",
              "      <td>0</td>\n",
              "    </tr>\n",
              "    <tr>\n",
              "      <th>93</th>\n",
              "      <td>a00093.png</td>\n",
              "      <td>9</td>\n",
              "    </tr>\n",
              "    <tr>\n",
              "      <th>94</th>\n",
              "      <td>a00094.png</td>\n",
              "      <td>5</td>\n",
              "    </tr>\n",
              "    <tr>\n",
              "      <th>95</th>\n",
              "      <td>a00095.png</td>\n",
              "      <td>7</td>\n",
              "    </tr>\n",
              "    <tr>\n",
              "      <th>96</th>\n",
              "      <td>a00096.png</td>\n",
              "      <td>3</td>\n",
              "    </tr>\n",
              "    <tr>\n",
              "      <th>97</th>\n",
              "      <td>a00097.png</td>\n",
              "      <td>9</td>\n",
              "    </tr>\n",
              "    <tr>\n",
              "      <th>98</th>\n",
              "      <td>a00098.png</td>\n",
              "      <td>6</td>\n",
              "    </tr>\n",
              "    <tr>\n",
              "      <th>99</th>\n",
              "      <td>a00099.png</td>\n",
              "      <td>7</td>\n",
              "    </tr>\n",
              "  </tbody>\n",
              "</table>\n",
              "<p>100 rows × 2 columns</p>\n",
              "</div>"
            ],
            "text/plain": [
              "           key  label\n",
              "0   a00000.png      4\n",
              "1   a00001.png      9\n",
              "2   a00002.png      3\n",
              "3   a00003.png      0\n",
              "4   a00004.png      4\n",
              "5   a00005.png      6\n",
              "6   a00006.png      4\n",
              "7   a00007.png      5\n",
              "8   a00008.png      2\n",
              "9   a00009.png      4\n",
              "10  a00010.png      2\n",
              "11  a00011.png      5\n",
              "12  a00012.png      3\n",
              "13  a00013.png      7\n",
              "14  a00014.png      5\n",
              "15  a00015.png      9\n",
              "16  a00016.png      3\n",
              "17  a00017.png      5\n",
              "18  a00018.png      1\n",
              "19  a00019.png      3\n",
              "20  a00020.png      5\n",
              "21  a00021.png      4\n",
              "22  a00022.png      7\n",
              "23  a00023.png      5\n",
              "24  a00024.png      7\n",
              "25  a00025.png      8\n",
              "26  a00026.png      1\n",
              "27  a00027.png      3\n",
              "28  a00028.png      8\n",
              "29  a00029.png      7\n",
              "..         ...    ...\n",
              "70  a00070.png      6\n",
              "71  a00071.png      1\n",
              "72  a00072.png      7\n",
              "73  a00073.png      7\n",
              "74  a00074.png      3\n",
              "75  a00075.png      0\n",
              "76  a00076.png      6\n",
              "77  a00077.png      8\n",
              "78  a00078.png      6\n",
              "79  a00079.png      8\n",
              "80  a00080.png      4\n",
              "81  a00081.png      7\n",
              "82  a00082.png      3\n",
              "83  a00083.png      9\n",
              "84  a00084.png      3\n",
              "85  a00085.png      8\n",
              "86  a00086.png      2\n",
              "87  a00087.png      3\n",
              "88  a00088.png      8\n",
              "89  a00089.png      0\n",
              "90  a00090.png      5\n",
              "91  a00091.png      7\n",
              "92  a00092.png      0\n",
              "93  a00093.png      9\n",
              "94  a00094.png      5\n",
              "95  a00095.png      7\n",
              "96  a00096.png      3\n",
              "97  a00097.png      9\n",
              "98  a00098.png      6\n",
              "99  a00099.png      7\n",
              "\n",
              "[100 rows x 2 columns]"
            ]
          },
          "metadata": {
            "tags": []
          },
          "execution_count": 26
        }
      ]
    },
    {
      "cell_type": "code",
      "metadata": {
        "_uuid": "51e7528de57416eff84e8fa131124d138dc99ea4",
        "id": "FIC6MSaI5vwV",
        "colab_type": "code",
        "colab": {}
      },
      "source": [
        "#df=pd.read_csv(path_label_train_c,na_filter=False)\n",
        "#df.head(100)"
      ],
      "execution_count": 0,
      "outputs": []
    },
    {
      "cell_type": "code",
      "metadata": {
        "_uuid": "f1d1ee1fb15f6bba61fd94d4492524fbb32967a0",
        "id": "NVkc6BOv5vwW",
        "colab_type": "code",
        "colab": {}
      },
      "source": [
        "#y=np.array(df.iloc[:,3:4])\n",
        "#print(y)\n"
      ],
      "execution_count": 0,
      "outputs": []
    },
    {
      "cell_type": "code",
      "metadata": {
        "_uuid": "c68432b931be3671f4c7b501ac1ff4339bbaa745",
        "id": "wO3t5jF_5vwY",
        "colab_type": "code",
        "colab": {}
      },
      "source": [
        ""
      ],
      "execution_count": 0,
      "outputs": []
    },
    {
      "cell_type": "code",
      "metadata": {
        "_uuid": "2f3cef391776026ced9f273990934402ce275c92",
        "id": "ZdSrUJ905vwZ",
        "colab_type": "code",
        "colab": {}
      },
      "source": [
        ""
      ],
      "execution_count": 0,
      "outputs": []
    }
  ]
}